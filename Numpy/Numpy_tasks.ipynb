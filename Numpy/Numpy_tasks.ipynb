{
 "cells": [
  {
   "cell_type": "markdown",
   "id": "bbb22747",
   "metadata": {},
   "source": [
    "## 02 Numpy užduotys"
   ]
  },
  {
   "cell_type": "code",
   "execution_count": 3,
   "id": "c43e8923",
   "metadata": {},
   "outputs": [],
   "source": [
    "import numpy as np"
   ]
  },
  {
   "cell_type": "markdown",
   "id": "91bd01d4",
   "metadata": {},
   "source": [
    "### 1. Sukurkite vektorių su skaičiais nuo 1 iki 10"
   ]
  },
  {
   "cell_type": "code",
   "execution_count": 20,
   "id": "2613d129",
   "metadata": {},
   "outputs": [
    {
     "data": {
      "text/plain": [
       "array([ 1,  2,  3,  4,  5,  6,  7,  8,  9, 10])"
      ]
     },
     "execution_count": 20,
     "metadata": {},
     "output_type": "execute_result"
    }
   ],
   "source": [
    "arr_1 = np.arange(1,11)\n",
    "arr_1"
   ]
  },
  {
   "cell_type": "markdown",
   "id": "1b9f89bf",
   "metadata": {},
   "source": [
    "### 2. Sukurkite vektorių iš 10 nulių"
   ]
  },
  {
   "cell_type": "code",
   "execution_count": 6,
   "id": "1e4aaf4f",
   "metadata": {},
   "outputs": [
    {
     "data": {
      "text/plain": [
       "array([0., 0., 0., 0., 0., 0., 0., 0., 0., 0.])"
      ]
     },
     "execution_count": 6,
     "metadata": {},
     "output_type": "execute_result"
    }
   ],
   "source": [
    "arr_2 = np.zeros(10)\n",
    "arr_2"
   ]
  },
  {
   "cell_type": "markdown",
   "id": "bd798861",
   "metadata": {},
   "source": [
    "### 3.\tSukurkite vektorių iš 10 vienetų"
   ]
  },
  {
   "cell_type": "code",
   "execution_count": 22,
   "id": "1bb50dc5",
   "metadata": {},
   "outputs": [
    {
     "data": {
      "text/plain": [
       "array([1., 1., 1., 1., 1., 1., 1., 1., 1., 1.])"
      ]
     },
     "execution_count": 22,
     "metadata": {},
     "output_type": "execute_result"
    }
   ],
   "source": [
    "arr_3 = np.ones(10)\n",
    "arr_3"
   ]
  },
  {
   "cell_type": "markdown",
   "id": "1e8ea532",
   "metadata": {},
   "source": [
    "### 4. Sukurkite vektorių iš 10 ketvertų"
   ]
  },
  {
   "cell_type": "code",
   "execution_count": 23,
   "id": "052d54bf",
   "metadata": {},
   "outputs": [
    {
     "data": {
      "text/plain": [
       "array([4., 4., 4., 4., 4., 4., 4., 4., 4., 4.])"
      ]
     },
     "execution_count": 23,
     "metadata": {},
     "output_type": "execute_result"
    }
   ],
   "source": [
    "arr_3.fill(4)\n",
    "arr_3"
   ]
  },
  {
   "cell_type": "markdown",
   "id": "2a1cfb1a",
   "metadata": {},
   "source": [
    "### 5. Sukurkite vektorių iš lyginių skaičių nuo 0 iki 100"
   ]
  },
  {
   "cell_type": "code",
   "execution_count": 24,
   "id": "54f11689",
   "metadata": {},
   "outputs": [
    {
     "data": {
      "text/plain": [
       "array([  0,   2,   4,   6,   8,  10,  12,  14,  16,  18,  20,  22,  24,\n",
       "        26,  28,  30,  32,  34,  36,  38,  40,  42,  44,  46,  48,  50,\n",
       "        52,  54,  56,  58,  60,  62,  64,  66,  68,  70,  72,  74,  76,\n",
       "        78,  80,  82,  84,  86,  88,  90,  92,  94,  96,  98, 100])"
      ]
     },
     "execution_count": 24,
     "metadata": {},
     "output_type": "execute_result"
    }
   ],
   "source": [
    "arr_4 = np.arange(0,101,2)\n",
    "arr_4"
   ]
  },
  {
   "cell_type": "markdown",
   "id": "0fd104e7",
   "metadata": {},
   "source": [
    "### 6. Sukurkite matricą iš 25 narių, pradedant 1, baigiant 25. Priskirkite ją kintamajam."
   ]
  },
  {
   "cell_type": "code",
   "execution_count": 25,
   "id": "e34eb2ea",
   "metadata": {},
   "outputs": [
    {
     "data": {
      "text/plain": [
       "array([[ 1,  2,  3,  4,  5],\n",
       "       [ 6,  7,  8,  9, 10],\n",
       "       [11, 12, 13, 14, 15],\n",
       "       [16, 17, 18, 19, 20],\n",
       "       [21, 22, 23, 24, 25]])"
      ]
     },
     "execution_count": 25,
     "metadata": {},
     "output_type": "execute_result"
    }
   ],
   "source": [
    "arr_5 = np.array([[1,2,3,4,5], [6,7,8,9,10], [11,12,13,14,15], [16,17,18,19,20], [21,22,23,24,25]])\n",
    "arr_5"
   ]
  },
  {
   "cell_type": "markdown",
   "id": "54e971f4",
   "metadata": {},
   "source": [
    "### 7. Iš matricos ištraukite skaičių 12"
   ]
  },
  {
   "cell_type": "code",
   "execution_count": 26,
   "id": "facf4d90",
   "metadata": {},
   "outputs": [
    {
     "data": {
      "text/plain": [
       "12"
      ]
     },
     "execution_count": 26,
     "metadata": {},
     "output_type": "execute_result"
    }
   ],
   "source": [
    "arr_5[2,1]"
   ]
  },
  {
   "cell_type": "markdown",
   "id": "dea9c399",
   "metadata": {},
   "source": [
    "### 8. Iš matricos ištraukite paskutinę eilutę."
   ]
  },
  {
   "cell_type": "code",
   "execution_count": 27,
   "id": "761cb910",
   "metadata": {},
   "outputs": [
    {
     "data": {
      "text/plain": [
       "array([21, 22, 23, 24, 25])"
      ]
     },
     "execution_count": 27,
     "metadata": {},
     "output_type": "execute_result"
    }
   ],
   "source": [
    "arr_5[4]"
   ]
  },
  {
   "cell_type": "markdown",
   "id": "a05893ae",
   "metadata": {},
   "source": [
    "### 9. Iš matricos ištraukite submatricą: 1, 2, 3\\ 6, 7, 8\\ 11,12,13"
   ]
  },
  {
   "cell_type": "code",
   "execution_count": 29,
   "id": "078f2781",
   "metadata": {},
   "outputs": [
    {
     "data": {
      "text/plain": [
       "array([[ 1,  2,  3],\n",
       "       [ 6,  7,  8],\n",
       "       [11, 12, 13]])"
      ]
     },
     "execution_count": 29,
     "metadata": {},
     "output_type": "execute_result"
    }
   ],
   "source": [
    "arr_5[: 3, : 3]"
   ]
  },
  {
   "cell_type": "markdown",
   "id": "97b403ad",
   "metadata": {},
   "source": [
    "### 10.\tIš matricos ištraukite submatricą: 7, 8, 9, 10\\ 12, 13, 14, 15\\ 17, 18, 19, 20"
   ]
  },
  {
   "cell_type": "code",
   "execution_count": 30,
   "id": "229af035",
   "metadata": {},
   "outputs": [
    {
     "data": {
      "text/plain": [
       "array([[ 7,  8,  9, 10],\n",
       "       [12, 13, 14, 15],\n",
       "       [17, 18, 19, 20]])"
      ]
     },
     "execution_count": 30,
     "metadata": {},
     "output_type": "execute_result"
    }
   ],
   "source": [
    "arr_5[1 : 4, 1 :]"
   ]
  },
  {
   "cell_type": "markdown",
   "id": "202c0bea",
   "metadata": {},
   "source": [
    "### 11. Iš matricos ištraukite submatricą: 16, 17, 18 \\ 21, 22, 23"
   ]
  },
  {
   "cell_type": "code",
   "execution_count": 31,
   "id": "59039a10",
   "metadata": {},
   "outputs": [
    {
     "data": {
      "text/plain": [
       "array([[16, 17, 18],\n",
       "       [21, 22, 23]])"
      ]
     },
     "execution_count": 31,
     "metadata": {},
     "output_type": "execute_result"
    }
   ],
   "source": [
    "arr_5[3 :, : 3]"
   ]
  },
  {
   "cell_type": "markdown",
   "id": "8d800bfb",
   "metadata": {},
   "source": [
    "### 12. Sukurkite vektorių iš 20 atsitiktinių reikšmių nuo 0 iki 1. Priskirkite kintamajam."
   ]
  },
  {
   "cell_type": "code",
   "execution_count": 32,
   "id": "3d7299ad",
   "metadata": {},
   "outputs": [
    {
     "data": {
      "text/plain": [
       "array([0.46265965, 0.52188248, 0.13324015, 0.60596429, 0.5036882 ,\n",
       "       0.77941191, 0.99798083, 0.93881218, 0.79675438, 0.12525727,\n",
       "       0.22150763, 0.6215783 , 0.42161451, 0.67738779, 0.06865588,\n",
       "       0.88526359, 0.99214379, 0.64747824, 0.72160275, 0.21693864])"
      ]
     },
     "execution_count": 32,
     "metadata": {},
     "output_type": "execute_result"
    }
   ],
   "source": [
    "arr_6 = np.random.uniform(0,1,20)\n",
    "arr_6"
   ]
  },
  {
   "cell_type": "markdown",
   "id": "936d8750",
   "metadata": {},
   "source": [
    "### 13.\tSuraskite didžiausią reikšmę masyve ir jos indeksą. (naudoti max() ir .argmax())"
   ]
  },
  {
   "cell_type": "code",
   "execution_count": 35,
   "id": "f5083bb8",
   "metadata": {},
   "outputs": [
    {
     "data": {
      "text/plain": [
       "(0.9979808299149394, 6)"
      ]
     },
     "execution_count": 35,
     "metadata": {},
     "output_type": "execute_result"
    }
   ],
   "source": [
    "max_value = np.max(arr_6)\n",
    "max_index = np.argmax(arr_6)\n",
    "max_value, max_index "
   ]
  },
  {
   "cell_type": "markdown",
   "id": "7e5af04e",
   "metadata": {},
   "source": [
    "### 14.\tSuraskite mažiausią reikšmę ir jos indeksą. (naudoti min() ir .argmin())"
   ]
  },
  {
   "cell_type": "code",
   "execution_count": 36,
   "id": "bc234523",
   "metadata": {},
   "outputs": [
    {
     "data": {
      "text/plain": [
       "(0.06865588410973356, 14)"
      ]
     },
     "execution_count": 36,
     "metadata": {},
     "output_type": "execute_result"
    }
   ],
   "source": [
    "min_value = np.min(arr_6)\n",
    "min_index = np.argmin(arr_6)\n",
    "min_value, min_index"
   ]
  },
  {
   "cell_type": "markdown",
   "id": "fbf66e0d",
   "metadata": {},
   "source": [
    "### 15.\tAtspausdinkite šios matricos duomenų tipą"
   ]
  },
  {
   "cell_type": "code",
   "execution_count": 37,
   "id": "8235bd2f",
   "metadata": {},
   "outputs": [
    {
     "data": {
      "text/plain": [
       "dtype('float64')"
      ]
     },
     "execution_count": 37,
     "metadata": {},
     "output_type": "execute_result"
    }
   ],
   "source": [
    "arr_6.dtype"
   ]
  },
  {
   "cell_type": "code",
   "execution_count": null,
   "id": "4fea4d8e",
   "metadata": {},
   "outputs": [],
   "source": []
  }
 ],
 "metadata": {
  "kernelspec": {
   "display_name": "Python 3 (ipykernel)",
   "language": "python",
   "name": "python3"
  },
  "language_info": {
   "codemirror_mode": {
    "name": "ipython",
    "version": 3
   },
   "file_extension": ".py",
   "mimetype": "text/x-python",
   "name": "python",
   "nbconvert_exporter": "python",
   "pygments_lexer": "ipython3",
   "version": "3.10.2"
  }
 },
 "nbformat": 4,
 "nbformat_minor": 5
}
